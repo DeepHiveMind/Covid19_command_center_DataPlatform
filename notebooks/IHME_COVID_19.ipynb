{
 "cells": [
  {
   "cell_type": "markdown",
   "metadata": {},
   "source": [
    "# IHME PROJECTIONS"
   ]
  },
  {
   "cell_type": "markdown",
   "metadata": {},
   "source": [
    "IHME's COVID-19 projections were developed in response to requests from the University of Washington School of Medicine and other US hospital systems and state governments working to determine when COVID-19 would overwhelm their ability to care for patients. The forecasts show demand for hospital services, including the availability of ventilators, general hospital beds, and ICU beds, as well as daily and cumulative deaths due to COVID-19."
   ]
  },
  {
   "cell_type": "code",
   "execution_count": null,
   "metadata": {},
   "outputs": [],
   "source": [
    "import pandas as pd\n",
    "import requests\n",
    "import pycountry\n",
    "import zipfile\n",
    "from functools import reduce\n",
    "import io\n",
    "import re\n",
    "from datetime import datetime\n",
    "from csv import QUOTE_NONNUMERIC"
   ]
  },
  {
   "cell_type": "code",
   "execution_count": null,
   "metadata": {
    "tags": [
     "parameters"
    ]
   },
   "outputs": [],
   "source": [
    "# papermill parameters\n",
    "output_folder = \"../output/\""
   ]
  },
  {
   "cell_type": "code",
   "execution_count": null,
   "metadata": {},
   "outputs": [],
   "source": [
    "# get .zip file content\n",
    "\n",
    "response = requests.get(\"https://ihmecovid19storage.blob.core.windows.net/latest/ihme-covid19.zip\", stream=True)\n",
    "assert response.status_code is 200\n",
    "\n",
    "# parse .zip\n",
    "z = zipfile.ZipFile(io.BytesIO(response.content))"
   ]
  },
  {
   "cell_type": "code",
   "execution_count": null,
   "metadata": {},
   "outputs": [],
   "source": [
    "# create df from csv in zip\n",
    "\n",
    "df = pd.read_csv(z.open(re.search(r\".*\\.csv\", \"\\n\".join(z.namelist()))[0]))"
   ]
  },
  {
   "cell_type": "code",
   "execution_count": null,
   "metadata": {},
   "outputs": [],
   "source": [
    "# set columns Last_Update_Date and LAST_REPORTED_FLAG\n",
    "\n",
    "df['Last_Update_Date'] = datetime.now()\n",
    "df['Last_Reported_Flag'] = df['date'].max() == df['date']"
   ]
  },
  {
   "cell_type": "code",
   "execution_count": null,
   "metadata": {},
   "outputs": [],
   "source": [
    "regions_manual_dict = {\n",
    "    \"Balearic Islands\": (\"ES\", \"Spain\", \"ES-IB\"),\n",
    "    \"Basque Country\": (\"ES\", \"Spain\", \"ES-PV\"),\n",
    "    \"Bavaria\": (\"DE\", \"Germany\", \"DE-BY\"),\n",
    "    \"Canary Islands\": (\"ES\", \"Spain\", \"ES-CN\"),\n",
    "    \"Castile and Leon\": (\"ES\", \"Spain\", \"ES-CL\"),\n",
    "    \"Catalonia\": (\"ES\", \"Spain\", \"ES-CT\"),\n",
    "    \"Community of Madrid\": (\"ES\", \"Spain\", \"ES-MD\"),\n",
    "    \"King and Snohomish Counties (excluding Life Care Center), WA\": (\"US\", \"United States\", \"US-WA\"),\n",
    "    \"Life Care Center, Kirkland, WA\": (\"US\", \"United States\", \"US-WA\"),\n",
    "    \"Lower Saxony\": (\"DE\", \"Germany\", \"DE-NI\"),\n",
    "    \"Navarre\": (\"ES\", \"Spain\", \"ES-NA\"),\n",
    "    \"North Rhine-Westphalia\": (\"DE\", \"Germany\", \"DE-NW\"),\n",
    "    \"Other Counties, WA\": (\"US\", \"United States\", \"US-WA\"),\n",
    "    \"Provincia autonoma di Bolzano\": (\"IT\", \"Italy\", \"IT-BZ\"),\n",
    "    \"Provincia autonoma di Trento\": (\"IT\", \"Italy\", \"IT-TN\"),\n",
    "    \"Rhineland-Palatinate\": (\"DE\", \"Germany\", \"DE-RP\"),\n",
    "    \"Saxony-Anhalt\": (\"DE\", \"Germany\", \"DE-ST\"),\n",
    "    \"Saxony\": (\"DE\", \"Germany\", \"DE-SN\"),\n",
    "    \"Thuringia\": (\"DE\", \"Germany\", \"DE-TH\"),\n",
    "    \"Valencian Community\": (\"ES\", \"Spain\", \"ES-VC\")\n",
    "}\n",
    "\n",
    "subdivisions = {}"
   ]
  },
  {
   "cell_type": "code",
   "execution_count": null,
   "metadata": {},
   "outputs": [],
   "source": [
    "# create country resolver helper func\n",
    "\n",
    "def resolve_country(location_name):\n",
    "    country_code, country_name, subdiv_code = None, None, None\n",
    "    lookup = pycountry.countries.get(name=location_name)\n",
    "    if not lookup:\n",
    "        try:\n",
    "            lookup = pycountry.countries.search_fuzzy(location_name)[0]\n",
    "            country_name, country_code = lookup.name, lookup.alpha_2\n",
    "            if country_code not in list(subdivisions):\n",
    "                subdivisions[country_code] = {k.name: k.code.replace(f\"{country_code}-\", \"\") for k in pycountry.subdivisions.get(country_code=country_code)} \n",
    "            subdiv_code = subdivisions[country_code][location_name]\n",
    "        except (LookupError): \n",
    "            if location_name in list(regions_manual_dict):\n",
    "\n",
    "        \n",
    "                country_code, country_name, subdiv_code = regions_manual_dict[location_name]\n",
    "                subdiv_code = subdiv_code.replace(f\"{country_code}-\", \"\")\n",
    "    else:\n",
    "        country_name, country_code = lookup.name, lookup.alpha_2\n",
    "    return country_name, country_code, subdiv_code\n"
   ]
  },
  {
   "cell_type": "code",
   "execution_count": null,
   "metadata": {},
   "outputs": [],
   "source": [
    "df['COUNTRY_REGION'] = None\n",
    "df['ISO3166_1'] = None\n",
    "df['ISO3166_2'] = None\n",
    "\n",
    "# get distinct locations list\n",
    "distinct_locations = list(df['location_name'].unique())\n",
    "\n",
    "# iterate distinct_locations\n",
    "for c in distinct_locations:\n",
    "    country_name, country_code, subdiv_code = resolve_country(c)\n",
    "    \n",
    "    # set value where location_name == c\n",
    "    df['COUNTRY_REGION'].loc[df['location_name'] == c] = country_name\n",
    "    df['ISO3166_1'].loc[df['location_name'] == c] = country_code\n",
    "    df['ISO3166_2'].loc[df['location_name'] == c] = subdiv_code\n",
    "    "
   ]
  },
  {
   "cell_type": "code",
   "execution_count": null,
   "metadata": {},
   "outputs": [],
   "source": [
    "# fix some subdivisions manually\n",
    "\n",
    "df['ISO3166_2'].loc[(df['ISO3166_2'].isna()) & (df['location_name'] == 'Aragon')] = \"AR\"\n",
    "df['ISO3166_2'].loc[(df['ISO3166_2'].isna()) & (df['location_name'] == 'Andalucia')] = \"AN\"\n",
    "df['ISO3166_2'].loc[(df['ISO3166_2'].isna()) & (df['location_name'] == 'Baden-Wurttemberg')] = \"BW\"\n",
    "df['ISO3166_2'].loc[(df['ISO3166_2'].isna()) & (df['location_name'] == 'Hesse')] = \"HE\""
   ]
  },
  {
   "cell_type": "code",
   "execution_count": null,
   "metadata": {},
   "outputs": [],
   "source": [
    "df['date'] = pd.to_datetime(df['date'].astype(str), format='%Y-%m-%d')"
   ]
  },
  {
   "cell_type": "code",
   "execution_count": null,
   "metadata": {},
   "outputs": [],
   "source": [
    "# set province_state where subdivisions code exists\n",
    "\n",
    "df['PROVINCE_STATE'] = None\n",
    "df['PROVINCE_STATE'].loc[df['ISO3166_2'].notna()] = df.loc[df['ISO3166_2'].notna()]['location_name']"
   ]
  },
  {
   "cell_type": "code",
   "execution_count": null,
   "metadata": {},
   "outputs": [],
   "source": [
    "# drop cols\n",
    "cols = list(df.columns)  # dataset has uncertain columns, make sure not referencing any non-existing columns\n",
    "drop_cols = list(filter(lambda col: col in cols, ['location_name', 'V1', 'location_id']))\n",
    "\n",
    "df = df.drop(columns=drop_cols)"
   ]
  },
  {
   "cell_type": "code",
   "execution_count": null,
   "metadata": {},
   "outputs": [],
   "source": [
    "df.dtypes"
   ]
  },
  {
   "cell_type": "code",
   "execution_count": null,
   "metadata": {},
   "outputs": [],
   "source": [
    "df.sample(5)"
   ]
  },
  {
   "cell_type": "code",
   "execution_count": null,
   "metadata": {},
   "outputs": [],
   "source": [
    "df.to_csv(output_folder + \"IHME_COVID_19.csv\", columns=[\"date\",\"allbed_mean\",\"allbed_lower\",\"allbed_upper\",\"ICUbed_mean\",\"ICUbed_lower\",\"ICUbed_upper\",\"InvVen_mean\",\"InvVen_lower\",\"InvVen_upper\",\"deaths_mean\",\"deaths_lower\",\"deaths_upper\",\"admis_mean\",\"admis_lower\",\"admis_upper\",\"newICU_mean\",\"newICU_lower\",\"newICU_upper\",\"totdea_mean\",\"totdea_lower\",\"totdea_upper\",\"bedover_mean\",\"bedover_lower\",\"bedover_upper\",\"icuover_mean\",\"icuover_lower\",\"icuover_upper\",\"Last_Update_Date\",\"Last_Reported_Flag\",\"COUNTRY_REGION\",\"ISO_3166_1\",\"ISO_3166_2\",\"PROVINCE_STATE\"],\n",
    "          index=False, sep=\",\", quoting=QUOTE_NONNUMERIC)"
   ]
  }
 ],
 "metadata": {
  "celltoolbar": "Tags",
  "kernelspec": {
   "display_name": "Python 3",
   "language": "python",
   "name": "python3"
  },
  "language_info": {
   "codemirror_mode": {
    "name": "ipython",
    "version": 3
   },
   "file_extension": ".py",
   "mimetype": "text/x-python",
   "name": "python",
   "nbconvert_exporter": "python",
   "pygments_lexer": "ipython3",
   "version": "3.7.6"
  }
 },
 "nbformat": 4,
 "nbformat_minor": 4
}
