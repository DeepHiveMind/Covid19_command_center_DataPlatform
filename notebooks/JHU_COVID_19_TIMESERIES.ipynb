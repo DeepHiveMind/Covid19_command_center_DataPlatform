{
 "cells": [
  {
   "cell_type": "markdown",
   "metadata": {},
   "source": [
    "# COVID-19 Data Repository by the Center for Systems Science and Engineering (CSSE) at Johns Hopkins University\n"
   ]
  },
  {
   "cell_type": "code",
   "execution_count": null,
   "metadata": {},
   "outputs": [],
   "source": [
    "import pandas as pd\n",
    "import pycountry\n",
    "import datetime\n",
    "from functools import reduce\n",
    "import re\n",
    "import numpy as np\n",
    "from collections import ChainMap"
   ]
  },
  {
   "cell_type": "code",
   "execution_count": null,
   "metadata": {
    "tags": [
     "parameters"
    ]
   },
   "outputs": [],
   "source": [
    "# papermill parameters\n",
    "output_folder = \"../output/\""
   ]
  },
  {
   "cell_type": "code",
   "execution_count": null,
   "metadata": {},
   "outputs": [],
   "source": [
    "endpoint = \"https://raw.githubusercontent.com/CSSEGISandData/COVID-19/master/csse_covid_19_data/csse_covid_19_time_series/{}.csv\"\n",
    "datasets = {\n",
    "    \"time_series_covid19_confirmed_US\": \"Confirmed\",\n",
    "    \"time_series_covid19_deaths_US\": \"Deaths\",\n",
    "    \"time_series_covid19_recovered_global\": \"Recovered\",\n",
    "    \"time_series_covid19_confirmed_global\": \"Confirmed\",\n",
    "    \"time_series_covid19_deaths_global\": \"Deaths\"    \n",
    "}"
   ]
  },
  {
   "cell_type": "markdown",
   "metadata": {},
   "source": [
    "### Retrieve data"
   ]
  },
  {
   "cell_type": "code",
   "execution_count": null,
   "metadata": {
    "scrolled": true
   },
   "outputs": [],
   "source": [
    "res = {}\n",
    "for data, case in datasets.items():\n",
    "    df = pd.read_csv(endpoint.format(data)).rename(columns={\n",
    "        \"Long_\": \"Long\",\n",
    "        \"Lat_\": \"Lat\",\n",
    "        \"Country/Region\": \"Country_Region\", \n",
    "        \"Province/State\": \"Province_State\"\n",
    "    })\n",
    "    if \"_US\" in data:\n",
    "        df = df.set_index([\"Country_Region\", \"Province_State\", \"Admin2\"])\n",
    "    else:\n",
    "        df = df[df[\"Country_Region\"]!='US']\n",
    "        df = df.set_index([\"Country_Region\", \"Province_State\"])\n",
    "\n",
    "    df = df.add_suffix(f\"_{case}\")\n",
    "    res[data] = df\n",
    "        \n"
   ]
  },
  {
   "cell_type": "markdown",
   "metadata": {},
   "source": [
    "### Merge global data"
   ]
  },
  {
   "cell_type": "code",
   "execution_count": null,
   "metadata": {},
   "outputs": [],
   "source": [
    "c_glob = res[\"time_series_covid19_confirmed_global\"]\n",
    "d_glob = res[\"time_series_covid19_deaths_global\"]\n",
    "r_glob = res[\"time_series_covid19_recovered_global\"]"
   ]
  },
  {
   "cell_type": "code",
   "execution_count": null,
   "metadata": {},
   "outputs": [],
   "source": [
    "glob_merged = c_glob.merge(d_glob.drop(columns=[\"Lat_Deaths\", \"Long_Deaths\"]), left_on=[\"Country_Region\", \"Province_State\"], right_on=[\"Country_Region\", \"Province_State\"], how=\"outer\")\n",
    "glob_merged = glob_merged.merge(r_glob.drop(columns=[\"Lat_Recovered\", \"Long_Recovered\"]), left_on=[\"Country_Region\", \"Province_State\"], right_on=[\"Country_Region\", \"Province_State\"], how=\"outer\")\n",
    "glob_merged[\"Admin2\"] = None\n",
    "glob_merged = glob_merged.set_index([\"Admin2\"], append=True)\n",
    "glob_merged = glob_merged.rename(columns={\"Lat_Confirmed\": \"Lat\", \"Long_Confirmed\": \"Long\"})"
   ]
  },
  {
   "cell_type": "markdown",
   "metadata": {},
   "source": [
    "### Merge US data"
   ]
  },
  {
   "cell_type": "code",
   "execution_count": null,
   "metadata": {},
   "outputs": [],
   "source": [
    "c_us = res[\"time_series_covid19_confirmed_US\"]\n",
    "d_us = res[\"time_series_covid19_deaths_US\"]"
   ]
  },
  {
   "cell_type": "code",
   "execution_count": null,
   "metadata": {},
   "outputs": [],
   "source": [
    "us_merged = c_us.merge(d_us.drop(columns=[\"UID_Deaths\", \"iso2_Deaths\", \"iso3_Deaths\", \"code3_Deaths\",\"FIPS_Deaths\", \"Lat_Deaths\", \"Long_Deaths\", \"Combined_Key_Deaths\", \"Population_Deaths\"]), left_on=[\"Country_Region\", \"Province_State\", \"Admin2\"], right_on=[\"Country_Region\", \"Province_State\", \"Admin2\"])\n",
    "us_merged = us_merged.rename(columns={\n",
    "    \"UID_Confirmed\": \"UID\", \n",
    "    \"iso2_Confirmed\": \"iso2\", \n",
    "    \"iso3_Confirmed\": \"iso3\",\n",
    "    \"code3_Confirmed\": \"code3\",\n",
    "     \"FIPS_Confirmed\": \"FIPS\",\n",
    "     \"Lat_Confirmed\": \"Lat\",\n",
    "     \"Long_Confirmed\": \"Long\",\n",
    "     \"Combined_Key_Confirmed\": \"Combined_Key\"\n",
    "})"
   ]
  },
  {
   "cell_type": "markdown",
   "metadata": {},
   "source": [
    "### Concat dataframes"
   ]
  },
  {
   "cell_type": "code",
   "execution_count": null,
   "metadata": {},
   "outputs": [],
   "source": [
    "df = pd.concat([glob_merged, us_merged], sort=True)\n",
    "df = df.reset_index()"
   ]
  },
  {
   "cell_type": "markdown",
   "metadata": {},
   "source": [
    "### Resolve County"
   ]
  },
  {
   "cell_type": "code",
   "execution_count": null,
   "metadata": {},
   "outputs": [],
   "source": [
    "df = df.rename(columns={\"Admin2\": \"County\"})\n",
    "df['County'] = df['County'].replace(r'(?i)unassigned', 'unassigned', regex=True) "
   ]
  },
  {
   "cell_type": "code",
   "execution_count": null,
   "metadata": {},
   "outputs": [],
   "source": [
    "changed_names = {\n",
    "    \"Holy See\": \"Holy See (Vatican City State)\",\n",
    "    \"Vatican City\": \"Holy See (Vatican City State)\",\n",
    "    \"Hong Kong SAR\": \"Hong Kong\",\n",
    "    \"Iran (Islamic Republic of)\": \"Iran, Islamic Republic of\",\n",
    "    \"Iran\": \"Iran, Islamic Republic of\",\n",
    "    \"Macao SAR\": \"Macao\",\n",
    "    \"Macau\": \"Macao\",\n",
    "    \"Republic of Korea\": \"Korea, Republic of\",\n",
    "    \"South Korea\": \"Korea, Republic of\",\n",
    "    \"Korea, South\": \"Korea, Republic of\",\n",
    "    \"Republic of Moldova\": \"Moldova, Republic of\",\n",
    "    \"Russia\": \"Russian Federation\",\n",
    "    \"Saint Martin\": \"Sint Maarten (Dutch part)\",\n",
    "    \"St. Martin\": \"Sint Maarten (Dutch part)\",\n",
    "    \"Taipei and environs\": \"Taiwan, Province of China\",\n",
    "    \"Vietnam\": \"Viet Nam\",\n",
    "    \"occupied Palestinian territory\": \"Palestine, State of\",\n",
    "    \"West Bank and Gaza\": \"Palestine, State of\",\n",
    "    \"Taiwan*\": \"Taiwan, Province of China\",\n",
    "    \"Congo (Brazzaville)\": \"Congo\",\n",
    "    \"Congo (Kinshasa)\": \"Congo, The Democratic Republic of the\",\n",
    "    \"Gambia, The\": \"Gambia\",\n",
    "    \"The Gambia\": \"Gambia\",\n",
    "    \"Tanzania\": \"Tanzania, United Republic of\",\n",
    "    \"US\": \"United States\",\n",
    "    \"Curacao\": \"Curaçao\",\n",
    "    \"Brunei\": \"Brunei Darussalam\",\n",
    "    \"Cote d'Ivoire\": \"Côte d'Ivoire\",\n",
    "    \"Moldova\": \"Moldova, Republic of\",\n",
    "    \"The Bahamas\": \"Bahamas\",\n",
    "    \"Venezuela\": \"Venezuela, Bolivarian Republic of\",\n",
    "    \"Bolivia\": \"Bolivia, Plurinational State of\",\n",
    "    \"East Timor\": \"Timor-Leste\",\n",
    "    \"Cape Verde\": \"Cabo Verde\",\n",
    "    \"US\": \"United States\",\n",
    "    \"Laos\": \"Lao People's Democratic Republic\",\n",
    "    \"Burma\": \"Myanmar\"\n",
    "}\n",
    "\n",
    "def normalize_names(df):\n",
    "    df[\"Country_Region\"] = df[\"Country_Region\"].replace(changed_names)\n",
    "    return df   \n",
    "    #return(df.groupby(by=[\"Country_Region\",\"Province_State\", \"Date\", \"Case_Type\"], as_index=False).agg({\"Cases\": \"sum\", \"Long\": \"first\", \"Lat\": \"first\"}))"
   ]
  },
  {
   "cell_type": "code",
   "execution_count": null,
   "metadata": {},
   "outputs": [],
   "source": [
    "df = normalize_names(df)"
   ]
  },
  {
   "cell_type": "code",
   "execution_count": null,
   "metadata": {},
   "outputs": [],
   "source": [
    "df.loc[df[\"Country_Region\"] == \"Diamond Princess\", \"Province_State\"] = \"Diamond Princess\"\n",
    "df.loc[df[\"Country_Region\"] == \"Diamond Princess\", \"Country_Region\"] = \"Cruise Ship\""
   ]
  },
  {
   "cell_type": "markdown",
   "metadata": {},
   "source": [
    "### Resolve ISO3166_1 and ISO3166_2 codes"
   ]
  },
  {
   "cell_type": "code",
   "execution_count": null,
   "metadata": {},
   "outputs": [],
   "source": [
    "df['ISO3166_1'] = None\n",
    "df['ISO3166_2'] = None"
   ]
  },
  {
   "cell_type": "code",
   "execution_count": null,
   "metadata": {},
   "outputs": [],
   "source": [
    "unique_countries = list(df[\"Country_Region\"].unique())\n",
    "country_map = dict(ChainMap(*list(map(lambda x: {x: pycountry.countries.get(name=x)}, unique_countries))))"
   ]
  },
  {
   "cell_type": "code",
   "execution_count": null,
   "metadata": {},
   "outputs": [],
   "source": [
    "subdivisions = {}\n",
    "for country, pyc in country_map.items():\n",
    "    if pyc:\n",
    "        df[\"ISO3166_1\"].loc[df[\"Country_Region\"] == country] = pyc.alpha_2\n",
    "        subdivisions[pyc.alpha_2] = {k.name: k.code.replace(f\"{pyc.alpha_2}-\", \"\") for k in pycountry.subdivisions.get(country_code=pyc.alpha_2)} "
   ]
  },
  {
   "cell_type": "code",
   "execution_count": null,
   "metadata": {},
   "outputs": [],
   "source": [
    "for country_code, subdivs in subdivisions.items():\n",
    "    if len(df.loc[(df[\"ISO3166_1\"] == country_code) & (df[\"Province_State\"].notna())]):\n",
    "        for name, code in subdivs.items():\n",
    "            df[\"ISO3166_2\"].loc[(df[\"ISO3166_1\"] == country_code) & (df[\"Province_State\"] == name)] = code"
   ]
  },
  {
   "cell_type": "markdown",
   "metadata": {},
   "source": [
    "### Unpivot tables"
   ]
  },
  {
   "cell_type": "code",
   "execution_count": null,
   "metadata": {},
   "outputs": [],
   "source": [
    "df = df.melt(id_vars=list(filter(lambda col: not re.match(r\"\\d{0,2}/\\d{0,2}/2\\d_\", col), df.columns)), var_name=\"Date\", value_name=\"Cases\")\n"
   ]
  },
  {
   "cell_type": "markdown",
   "metadata": {},
   "source": [
    "### Retrieve Case Type, Parse Date"
   ]
  },
  {
   "cell_type": "code",
   "execution_count": null,
   "metadata": {},
   "outputs": [],
   "source": [
    "df[\"Case_Type\"] = df[\"Date\"].str.extract(r\"\\d{0,2}/\\d{0,2}/2\\d_(\\w+)\")\n",
    "df[\"Date\"] = df[\"Date\"].str.extract(r\"(\\d{0,2}/\\d{0,2}/2\\d)_\\w+\")\n",
    "df[\"Date\"] = pd.to_datetime(df[\"Date\"])"
   ]
  },
  {
   "cell_type": "markdown",
   "metadata": {},
   "source": [
    "### Data cleansing"
   ]
  },
  {
   "cell_type": "code",
   "execution_count": null,
   "metadata": {},
   "outputs": [],
   "source": [
    "df = df.drop(columns=[\"UID\", \"code3\", \"iso2\", \"iso3\", \"Combined_Key\"])"
   ]
  },
  {
   "cell_type": "markdown",
   "metadata": {},
   "source": [
    "### Resolve FIPS padding"
   ]
  },
  {
   "cell_type": "code",
   "execution_count": null,
   "metadata": {},
   "outputs": [],
   "source": [
    "df[\"FIPS\"] = df[\"FIPS\"].astype(str)\n",
    "df[\"FIPS\"] = df[\"FIPS\"].replace(r\"nan\", \"\", regex=True)\n",
    "df[\"FIPS\"] = df[\"FIPS\"].replace(r\"\\.0\", \"\", regex=True)\n",
    "df[\"FIPS\"] = df[\"FIPS\"].replace(r\"\\.\",\"\", regex=True)\n",
    "df['FIPS'].loc[df['FIPS'] != ''] = df['FIPS'].str.zfill(5)\n",
    "df['FIPS'] = df['FIPS'].replace(r'^(0{3,})(\\d{2})$', r'\\g<2>\\g<1>', regex=True)\n",
    "df[\"FIPS\"].loc[df[\"FIPS\"] == \"\"] = np.nan"
   ]
  },
  {
   "cell_type": "markdown",
   "metadata": {},
   "source": [
    "## Add difference Column"
   ]
  },
  {
   "cell_type": "code",
   "execution_count": null,
   "metadata": {},
   "outputs": [],
   "source": [
    "df[\"Difference\"] = 0\n",
    "df[\"Difference\"].loc[df[\"ISO3166_1\"] == \"US\"] = df.loc[df[\"ISO3166_1\"] == \"US\"].sort_values(['Date']).groupby([\"Country_Region\", \"Province_State\", \"County\",\"Case_Type\",\"FIPS\"])['Cases'].diff().fillna(0).astype(int)\n",
    "df[\"Difference\"].loc[(df[\"ISO3166_1\"] != \"US\") & (df[\"Province_State\"].isna())] = df.loc[(df[\"ISO3166_1\"] != \"US\") & (df[\"Province_State\"].isna())].sort_values([\"Date\"]).groupby([\"Country_Region\", \"Case_Type\"])[\"Cases\"].diff().fillna(0).astype(int)\n",
    "df[\"Difference\"].loc[(df[\"ISO3166_1\"] != \"US\") & (df[\"Province_State\"].notna())] = df.loc[(df[\"ISO3166_1\"] != \"US\") & (df[\"Province_State\"].notna())].sort_values([\"Date\"]).groupby([\"Country_Region\", \"Case_Type\"])[\"Cases\"].diff().fillna(0).astype(int)"
   ]
  },
  {
   "cell_type": "markdown",
   "metadata": {},
   "source": [
    "### Add Last Update Date and Last Reported Flag"
   ]
  },
  {
   "cell_type": "code",
   "execution_count": null,
   "metadata": {},
   "outputs": [],
   "source": [
    "df[\"Last_Update_Date\"] = datetime.datetime.utcnow()\n",
    "df['Last_Reported_Flag'] = df[\"Date\"].max() == df[\"Date\"]"
   ]
  },
  {
   "cell_type": "code",
   "execution_count": null,
   "metadata": {},
   "outputs": [],
   "source": [
    "df.dtypes"
   ]
  },
  {
   "cell_type": "markdown",
   "metadata": {},
   "source": [
    "### Save to .csv"
   ]
  },
  {
   "cell_type": "code",
   "execution_count": null,
   "metadata": {},
   "outputs": [],
   "source": [
    "df.to_csv(output_folder + \"JHU_COVID_19_TIMESERIES.csv\", index=False, columns=[\n",
    "    \"Country_Region\",\n",
    "    \"Province_State\",\n",
    "    \"County\",\n",
    "    \"FIPS\",\n",
    "    \"Lat\",\n",
    "    \"Long\",\n",
    "    \"ISO3166_1\",\n",
    "    \"ISO3166_2\",\n",
    "    \"Date\",\n",
    "    \"Cases\",\n",
    "    \"Case_Type\",\n",
    "    \"Last_Update_Date\",\n",
    "    \"Last_Reported_Flag\",\n",
    "    \"Difference\"\n",
    "])"
   ]
  }
 ],
 "metadata": {
  "celltoolbar": "Tags",
  "kernelspec": {
   "display_name": "Python 3",
   "language": "python",
   "name": "python3"
  },
  "language_info": {
   "codemirror_mode": {
    "name": "ipython",
    "version": 3
   },
   "file_extension": ".py",
   "mimetype": "text/x-python",
   "name": "python",
   "nbconvert_exporter": "python",
   "pygments_lexer": "ipython3",
   "version": "3.7.6"
  }
 },
 "nbformat": 4,
 "nbformat_minor": 4
}
