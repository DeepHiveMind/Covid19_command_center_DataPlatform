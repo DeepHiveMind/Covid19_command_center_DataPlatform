{
 "cells": [
  {
   "cell_type": "markdown",
   "metadata": {},
   "source": [
    "# Center for Systems Science and Engineering (CSSE) at Johns Hopkins University (JHU): COVID-19 Dashboard\n",
    "\n",
    "Data from https://gisanddata.maps.arcgis.com/apps/opsdashboard/index.html using arcgis REST API"
   ]
  },
  {
   "cell_type": "code",
   "execution_count": null,
   "metadata": {},
   "outputs": [],
   "source": [
    "import pandas as pd\n",
    "import requests\n",
    "import json\n",
    "import pycountry\n",
    "from datetime import datetime\n",
    "from functools import reduce"
   ]
  },
  {
   "cell_type": "code",
   "execution_count": null,
   "metadata": {
    "tags": [
     "parameters"
    ]
   },
   "outputs": [],
   "source": [
    "# papermill parameters\n",
    "output_folder = \"../output\""
   ]
  },
  {
   "cell_type": "markdown",
   "metadata": {},
   "source": [
    "#### Fetch record from global feature server, row count, set REST API params"
   ]
  },
  {
   "cell_type": "code",
   "execution_count": null,
   "metadata": {},
   "outputs": [],
   "source": [
    "endpoint = \"https://services9.arcgis.com/N9p5hsImWXAccRNI/arcgis/rest/services/Nc2JKvYFoAEOFCG5JSI6/FeatureServer/1/query?where=1%3D1&objectIds=&time=&geometry=&geometryType=esriGeometryEnvelope&inSR=&spatialRel=esriSpatialRelIntersects&resultType=none&distance=0.0&units=esriSRUnit_Meter&returnGeodetic=false&outFields=*&returnGeometry=true&returnCentroid=false&featureEncoding=esriDefault&multipatchOption=xyFootprint&maxAllowableOffset=&geometryPrecision=&outSR=&datumTransformation=&applyVCSProjection=false&returnIdsOnly=false&returnUniqueIdsOnly=false&returnExtentOnly=false&returnQueryGeometry=false&returnDistinctValues=false&cacheHint=false&orderByFields=&groupByFieldsForStatistics=&outStatistics=&having=&returnZ=false&returnM=false&returnExceededLimitFeatures=true&quantizationParameters=&sqlFormat=none&f=pjson\"\n",
    "headers = {\"Referer\": \"https://gisanddata.maps.arcgis.com/apps/opsdashboard/index.html\"}\n",
    "response = requests.get(endpoint + \"&returnCountOnly=true\", headers=headers)\n",
    "\n",
    "# check request status is HTTP_OK\n",
    "assert response.status_code is 200\n",
    "\n",
    "# load to json\n",
    "data = json.loads(response.text)\n",
    "\n",
    "# set query fetch params\n",
    "record_count = data['count']\n",
    "offset = 0\n",
    "record_fetch_count = 1000\n",
    "fields = None\n",
    "records = []\n",
    "\n",
    "print(record_count)"
   ]
  },
  {
   "cell_type": "markdown",
   "metadata": {},
   "source": [
    "#### Fetch records from global feature server using Arcgis RestAPI, create Dataframe from records"
   ]
  },
  {
   "cell_type": "code",
   "execution_count": null,
   "metadata": {},
   "outputs": [],
   "source": [
    "while offset < record_count:\n",
    "    response = requests.get(endpoint + f\"&resultRecordCount={record_fetch_count}&resultOffset={offset}\", headers=headers)\n",
    "    # check if request status code is HTTP_OK \n",
    "    assert response.status_code is 200\n",
    "    \n",
    "    # load to json\n",
    "    data = json.loads(response.text)\n",
    "    \n",
    "    # set fields\n",
    "    if not fields:\n",
    "        fields = list(map(lambda f: f['name'],data['fields']))\n",
    "    \n",
    "    data = list(map(lambda record: record['attributes'].values(), data['features']))\n",
    "    \n",
    "    # add to records\n",
    "    records += data\n",
    "    \n",
    "    # set params\n",
    "    offset += record_fetch_count\n",
    "    \n",
    "assert len(records) == record_count\n",
    "records = dict(zip(range(len(records)), records)) \n",
    "global_df = pd.DataFrame.from_dict(records, orient=\"index\", columns=fields)"
   ]
  },
  {
   "cell_type": "code",
   "execution_count": null,
   "metadata": {},
   "outputs": [],
   "source": [
    "#### Fetch record from testings feature server, row count, set REST API params"
   ]
  },
  {
   "cell_type": "code",
   "execution_count": null,
   "metadata": {},
   "outputs": [],
   "source": [
    "endpoint = \"https://services9.arcgis.com/N9p5hsImWXAccRNI/arcgis/rest/services/Nc2JKvYFoAEOFCG5JSI6/FeatureServer/3/query?where=1%3D1&objectIds=&time=&geometry=&geometryType=esriGeometryEnvelope&inSR=&spatialRel=esriSpatialRelIntersects&resultType=none&distance=0.0&units=esriSRUnit_Meter&returnGeodetic=false&outFields=*&returnGeometry=true&returnCentroid=false&featureEncoding=esriDefault&multipatchOption=xyFootprint&maxAllowableOffset=&geometryPrecision=&outSR=&datumTransformation=&applyVCSProjection=false&returnIdsOnly=false&returnUniqueIdsOnly=false&returnExtentOnly=false&returnQueryGeometry=false&returnDistinctValues=false&cacheHint=false&orderByFields=&groupByFieldsForStatistics=&outStatistics=&having=&returnZ=false&returnM=false&returnExceededLimitFeatures=true&quantizationParameters=&sqlFormat=none&f=pjson\"\n",
    "headers = {\"Referer\": \"https://gisanddata.maps.arcgis.com/apps/opsdashboard/index.html\"}\n",
    "response = requests.get(endpoint + \"&returnCountOnly=true\", headers=headers)\n",
    "\n",
    "# check request status is HTTP_OK\n",
    "assert response.status_code is 200\n",
    "\n",
    "# load to json\n",
    "data = json.loads(response.text)\n",
    "\n",
    "# set query fetch params\n",
    "record_count = data['count']\n",
    "offset = 0\n",
    "record_fetch_count = 1000\n",
    "fields = None\n",
    "records = []\n",
    "\n",
    "print(record_count)"
   ]
  },
  {
   "cell_type": "markdown",
   "metadata": {},
   "source": [
    "#### Fetch records from testings feature server using Arcgis RestAPI, create Dataframe from records"
   ]
  },
  {
   "cell_type": "code",
   "execution_count": null,
   "metadata": {},
   "outputs": [],
   "source": [
    "while offset < record_count:\n",
    "    response = requests.get(endpoint + f\"&resultRecordCount={record_fetch_count}&resultOffset={offset}\", headers=headers)\n",
    "    # check if request status code is HTTP_OK \n",
    "    assert response.status_code is 200\n",
    "    \n",
    "    # load to json\n",
    "    data = json.loads(response.text)\n",
    "    \n",
    "    # set fields\n",
    "    if not fields:\n",
    "        fields = list(map(lambda f: f['name'],data['fields']))\n",
    "    \n",
    "    data = list(map(lambda record: record['attributes'].values(), data['features']))\n",
    "    \n",
    "    # add to records\n",
    "    records += data\n",
    "    \n",
    "    # set params\n",
    "    offset += record_fetch_count\n",
    "    \n",
    "assert len(records) == record_count\n",
    "records = dict(zip(range(len(records)), records)) \n",
    "test_df = pd.DataFrame.from_dict(records, orient=\"index\", columns=fields)"
   ]
  },
  {
   "cell_type": "markdown",
   "metadata": {},
   "source": [
    "#### Parse date, drop unnecessary columns, rename columns "
   ]
  },
  {
   "cell_type": "code",
   "execution_count": null,
   "metadata": {
    "scrolled": true
   },
   "outputs": [],
   "source": [
    "global_df = global_df.drop(columns=[\"OBJECTID\", \"UID\", \"Combined_Key\"])\n",
    "global_df = global_df.rename(columns={\"Long_\": \"Long\", \"Last_Update\": \"Date\", \"Admin2\": \"County\"})\n",
    "global_df[\"Date\"] = pd.to_datetime(global_df[\"Date\"], unit=\"ms\")\n",
    "global_df[\"Hospitalization_Rate\"] = None\n",
    "global_df[\"Testing_Rate\"] = None\n",
    "global_df[\"Mortality_Rate\"] = None\n",
    "\n",
    "test_df = test_df.drop(columns=[\"OBJECTID\", \"UID\"])\n",
    "test_df = test_df.rename(columns={\"Long_\": \"Long\", \"Last_Update\": \"Date\"})\n",
    "test_df[\"Date\"] = pd.to_datetime(test_df[\"Date\"], unit=\"ms\")\n",
    "test_df[\"County\"] = None"
   ]
  },
  {
   "cell_type": "markdown",
   "metadata": {},
   "source": [
    "#### Append dataframes, reset index"
   ]
  },
  {
   "cell_type": "code",
   "execution_count": null,
   "metadata": {
    "scrolled": true
   },
   "outputs": [],
   "source": [
    "global_df = global_df.append(test_df, ignore_index=True, sort=True)\n",
    "global_df = global_df.reset_index()"
   ]
  },
  {
   "cell_type": "markdown",
   "metadata": {},
   "source": [
    "#### Get US pycountry subdivisions"
   ]
  },
  {
   "cell_type": "code",
   "execution_count": null,
   "metadata": {},
   "outputs": [],
   "source": [
    "cn_replace = [\n",
    "    \" Sheng\",\n",
    "    \" Zizhiqu\", \n",
    "    \" SAR (see also separate country code entry under HK)\", \n",
    "    \" Shi\",\n",
    "    \" (see also separate country code entry under TW)\",\n",
    "    \" Uygur\",\n",
    "    \" SAR (see also separate country code entry under MO)\",\n",
    "    \" Huizi\",\n",
    "    \" Zhuangzu\",\n",
    "    \" Huizi\",\n",
    "]\n",
    "\n",
    "ca_replace = [\n",
    "    \" Territory\"\n",
    "]\n",
    "\n",
    "us_subdivisions = {sd.name: sd.code.replace(\"US-\", \"\") for sd in pycountry.subdivisions.get(country_code='US')}\n",
    "ca_subdivisions = {reduce(lambda x, kv: x.replace(kv, \"\"), ca_replace, sd.name): sd.code.replace(\"CA-\", \"\") for sd in pycountry.subdivisions.get(country_code='CA')}\n",
    "uk_subdivisions = {sd.name: sd.code.replace(\"GB-\", \"\") for sd in pycountry.subdivisions.get(country_code='GB')}\n",
    "cn_subdivisions = {reduce(lambda x, kv: x.replace(kv, \"\"), cn_replace, sd.name): sd.code.replace(\"CN-\", \"\") for sd in pycountry.subdivisions.get(country_code='CN')}\n",
    "nl_subdivisions = {sd.name: sd.code.replace(\"NL-\", \"\") for sd in pycountry.subdivisions.get(country_code='NL')}\n",
    "au_subdivisions = {sd.name: sd.code.replace(\"AU-\", \"\") for sd in pycountry.subdivisions.get(country_code='AU')}\n",
    "\n",
    "subdivisions = {\n",
    "    **us_subdivisions, \n",
    "    **ca_subdivisions, \n",
    "    **uk_subdivisions, \n",
    "    **cn_subdivisions, \n",
    "    **au_subdivisions}"
   ]
  },
  {
   "cell_type": "markdown",
   "metadata": {},
   "source": [
    "#### create pycountry data resolve helper functions"
   ]
  },
  {
   "cell_type": "code",
   "execution_count": null,
   "metadata": {},
   "outputs": [],
   "source": [
    "def resolve_iso3166_1_by_iso3(iso):\n",
    "    # get iso3166_1 from iso3166_3\n",
    "    \n",
    "    if iso and len(iso):\n",
    "        if pycountry.countries.get(alpha_3=iso):\n",
    "            return pycountry.countries.get(alpha_3=iso).alpha_2\n",
    "    return \"\"\n",
    "\n",
    "def resolve_iso3166_1_by_name(name):\n",
    "    # get iso3166_1 from name using fuzzy search\n",
    "    \n",
    "    if name and len(name):\n",
    "        try:\n",
    "            res = pycountry.countries.search_fuzzy(name)  # according to docs: \"...There’s also a bit of prioritization included to prefer matches on country names before subdivision names and have countries with more matches be listed before ones with fewer matches...\"\n",
    "            return pycountry.countries.search_fuzzy(name)[0].alpha_3\n",
    "        except LookupError: # Lookup is thrown by pycountry search_fuzzy function when result is empty (catch IndexError is redundant)\n",
    "            return \"\"\n",
    "        \n",
    "def resolve_iso3166_2(state):\n",
    "    if state:\n",
    "        try:\n",
    "            return subdivisions[state]\n",
    "        except KeyError:\n",
    "            pass\n",
    "    return None\n",
    "        \n",
    "def resolve_name(row):\n",
    "    try:\n",
    "        lookup = pycountry.countries.get(alpha_2=row[\"ISO3166_1\"])\n",
    "        row[\"Country_Region\"] = lookup.name\n",
    "        return row\n",
    "    except (LookupError, KeyError, AttributeError):\n",
    "        return row"
   ]
  },
  {
   "cell_type": "markdown",
   "metadata": {},
   "source": [
    "#### resolve pycountry specific fields"
   ]
  },
  {
   "cell_type": "code",
   "execution_count": null,
   "metadata": {
    "scrolled": true
   },
   "outputs": [],
   "source": [
    "global_df['ISO3166_1'] = global_df['ISO3'].apply(lambda row: resolve_iso3166_1_by_iso3(row))\n",
    "\n",
    "# if iso3166_3 cannot resolve, try using fuzzy search, select top match \n",
    "global_df['ISO3166_1'].loc[global_df['ISO3166_1'] == ''] = global_df.loc[global_df['ISO3166_1'] == '']['Country_Region'].apply(lambda row: resolve_iso3166_1_by_name(row))\n",
    "\n",
    "# when fuzzy search cannot resolve iso3166_2 means that entity is a cruise ship\n",
    "global_df['ISO3166_1'].loc[global_df['ISO3166_1'] == ''] = 'Cruise Ship'\n",
    "\n",
    "# drop iso3166_3\n",
    "global_df = global_df.drop(columns=[\"ISO3\"])\n",
    "\n",
    "# resolve names for data consistency\n",
    "global_df = global_df.apply(lambda row: resolve_name(row), axis=1)\n",
    "\n",
    "# resolve iso3166_2 if given\n",
    "global_df['ISO3166_2'] = global_df['Province_State'].apply(lambda c: resolve_iso3166_2(c))\n",
    "\n",
    "global_df['ISO3166_2'].loc[global_df['ISO3166_1'] == 'Cruise Ship'] = 'Cruise Ship'"
   ]
  },
  {
   "cell_type": "markdown",
   "metadata": {},
   "source": [
    "#### resolve County field values being unassigned, FIPS format"
   ]
  },
  {
   "cell_type": "code",
   "execution_count": null,
   "metadata": {},
   "outputs": [],
   "source": [
    "global_df['County'] = global_df['County'].replace(r'(?i)unassigned', 'unassigned', regex=True) \n",
    "global_df['FIPS'].loc[global_df['FIPS'] != ''] = global_df['FIPS'].str.zfill(5)\n",
    "global_df['FIPS'] = global_df['FIPS'].replace(r'^(0{3,})(\\d{2})$', r'\\g<2>\\g<1>', regex=True)\n",
    "global_df = global_df.astype({\n",
    "    'FIPS': 'object'\n",
    "})"
   ]
  },
  {
   "cell_type": "markdown",
   "metadata": {},
   "source": [
    "#### add Last_Reported_Flag and Last_Update_Date"
   ]
  },
  {
   "cell_type": "code",
   "execution_count": null,
   "metadata": {},
   "outputs": [],
   "source": [
    "global_df['Last_Reported_Flag'] = global_df[\"Date\"].max() == global_df[\"Date\"]  # Date updated by rows in dataset (possible chance of only one record being \"last_reported\")\n",
    "global_df[\"Last_Update_Date\"] = datetime.utcnow()"
   ]
  },
  {
   "cell_type": "code",
   "execution_count": null,
   "metadata": {},
   "outputs": [],
   "source": [
    "global_df = global_df[[\"Country_Region\",\n",
    "                          \"Province_State\",\n",
    "                          \"County\",\n",
    "                          \"FIPS\",\n",
    "                          \"Date\",\n",
    "                          \"Active\",\n",
    "                          \"People_Tested\",\n",
    "                          \"Confirmed\",\n",
    "                          \"People_Hospitalized\",\n",
    "                          \"Deaths\",\n",
    "                          \"Recovered\",\n",
    "                          \"Incident_Rate\",\n",
    "                          \"Testing_Rate\",\n",
    "                          \"Hospitalization_Rate\",\n",
    "                          \"Mortality_Rate\",\n",
    "                          \"Long\",\n",
    "                          \"Lat\", \n",
    "                          \"ISO3166_1\",\n",
    "                          \"ISO3166_2\",\n",
    "                          \"Last_Update_Date\",\n",
    "                          \"Last_Reported_Flag\"\n",
    "                         ]]"
   ]
  },
  {
   "cell_type": "code",
   "execution_count": null,
   "metadata": {},
   "outputs": [],
   "source": [
    "global_df.dtypes"
   ]
  },
  {
   "cell_type": "code",
   "execution_count": null,
   "metadata": {},
   "outputs": [],
   "source": [
    "global_df"
   ]
  },
  {
   "cell_type": "code",
   "execution_count": null,
   "metadata": {},
   "outputs": [],
   "source": [
    "global_df.to_csv(output_folder + \"JHU_DASHBOARD_COVID_19_GLOBAL.csv\", index=False)"
   ]
  },
  {
   "cell_type": "code",
   "execution_count": null,
   "metadata": {},
   "outputs": [],
   "source": [
    "global_df.loc[global_df['People_Hospitalized'].notna()]"
   ]
  },
  {
   "cell_type": "code",
   "execution_count": null,
   "metadata": {},
   "outputs": [],
   "source": []
  }
 ],
 "metadata": {
  "celltoolbar": "Tags",
  "kernelspec": {
   "display_name": "Python 3",
   "language": "python",
   "name": "python3"
  },
  "language_info": {
   "codemirror_mode": {
    "name": "ipython",
    "version": 3
   },
   "file_extension": ".py",
   "mimetype": "text/x-python",
   "name": "python",
   "nbconvert_exporter": "python",
   "pygments_lexer": "ipython3",
   "version": "3.7.6"
  }
 },
 "nbformat": 4,
 "nbformat_minor": 4
}
