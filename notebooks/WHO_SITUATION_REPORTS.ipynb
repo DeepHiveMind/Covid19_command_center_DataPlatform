{
 "cells": [
  {
   "cell_type": "markdown",
   "metadata": {},
   "source": [
    "## WHO Coronavirus disease (COVID-2019) situation reports\n",
    "\n",
    "PDF Reports from https://www.who.int/emergencies/diseases/novel-coronavirus-2019/situation-reports in Tabular format.\n"
   ]
  },
  {
   "cell_type": "code",
   "execution_count": null,
   "metadata": {},
   "outputs": [],
   "source": [
    "import tabula\n",
    "import pandas as pd\n",
    "import pycountry\n",
    "import requests\n",
    "import os\n",
    "import re\n",
    "import numpy\n",
    "from datetime import datetime"
   ]
  },
  {
   "cell_type": "code",
   "execution_count": null,
   "metadata": {
    "tags": [
     "parameters"
    ]
   },
   "outputs": [],
   "source": [
    "# papermill parameters\n",
    "output_folder = \"../output/\"\n"
   ]
  },
  {
   "cell_type": "code",
   "execution_count": null,
   "metadata": {},
   "outputs": [],
   "source": [
    "pattern = r'/docs/default-source/coronaviruse/situation-reports/([^/]+).pdf'\n",
    "\n",
    "r = requests.get('https://www.who.int/emergencies/diseases/novel-coronavirus-2019/situation-reports')\n",
    "\n",
    "reports_to_fetch = list(set(re.findall(pattern, r.text)))\n",
    "\n"
   ]
  },
  {
   "cell_type": "code",
   "execution_count": null,
   "metadata": {},
   "outputs": [],
   "source": [
    "reports_to_fetch.sort()\n",
    "reports_to_fetch.reverse()\n",
    "reports_to_fetch = [report for report in reports_to_fetch if report > '20200229']\n",
    "\n",
    "\n",
    "if os.getenv(\"ENVIRONMENT\") == \"CI\":\n",
    "    reports_to_fetch = reports_to_fetch[0:2]\n",
    "    \n",
    "#reports_to_fetch = reports_to_fetch[0:7]\n",
    "reports_to_fetch"
   ]
  },
  {
   "cell_type": "code",
   "execution_count": null,
   "metadata": {},
   "outputs": [],
   "source": [
    "all_reports = {}\n",
    "\n",
    "for report in reports_to_fetch:\n",
    "    report_url = \"https://www.who.int/docs/default-source/coronaviruse/situation-reports/\"+ report +\".pdf\"\n",
    "    all_tables = tabula.read_pdf(report_url, pages='all', pandas_options={'header': None},silent=True)\n",
    "    all_reports[report] = all_tables\n"
   ]
  },
  {
   "cell_type": "code",
   "execution_count": null,
   "metadata": {},
   "outputs": [],
   "source": [
    "country_data = pd.DataFrame([],columns=[])\n",
    "\n",
    "for report, all_tables in all_reports.items():\n",
    "\n",
    "    # Remove all tables without 7 columns\n",
    "    for df in all_tables:\n",
    "        \n",
    "        # Data quality issue, sometimes we got an extra null column \n",
    "        if len(df.columns) > 7:\n",
    "            for i in df.columns:\n",
    "\n",
    "                if df[i].dtype != numpy.float64: \n",
    "                    if df[i].str.match(\"^\\d+ (\\d{4,8}|\\d{1,2})$\").any():\n",
    "                        df.insert(i, str(i) + \"_\", value=df[i].str.split(' ').str[1] )\n",
    "                        df[i] = df[i].str.split(' ').str[0]\n",
    "\n",
    "                df[i] = df[i].replace('§',numpy.NaN)\n",
    "                if df[i].isnull().unique()[0] & len(df[i].isnull().unique()) == 1:\n",
    "                    df = df.drop(labels=i, axis=1)\n",
    "\n",
    "            j=0\n",
    "            for i in df.columns:\n",
    "                df.rename({i:j},axis=1, inplace=True)\n",
    "                j=j+1            \n",
    "            \n",
    "        if len(df.columns) == 7:\n",
    "            df = df.rename(columns={0:'Country',1:'Total_Cases',2:'Cases_New',3:'Deaths',4:'Deaths_New',5:'Transmission_Classification',6:'Days_Since_Last_Reported_Case'})\n",
    "            df[\"ISO3166-1\"] = \"\"\n",
    "            df['Country/Region'] = \"\"\n",
    "            df[\"Date\"] = datetime.strptime(report[0:8], '%Y%m%d')\n",
    "            df[\"Situation_Report_name\"] = report\n",
    "            df[\"Situation_Report_URL\"] = \"https://www.who.int/docs/default-source/coronaviruse/situation-reports/\"+ report +\".pdf\"\n",
    "            country_data = country_data.append(df,ignore_index=True)"
   ]
  },
  {
   "cell_type": "code",
   "execution_count": null,
   "metadata": {},
   "outputs": [],
   "source": [
    "# Remove columns with null country or cases \n",
    "country_data = country_data[country_data['Country'].notnull()]\n",
    "country_data = country_data[country_data['Total_Cases'].notnull()]\n",
    "# header row\n",
    "country_data = country_data[~country_data.Days_Since_Last_Reported_Case.isin(['reported case','Days since last reported case','last reported','Days since last','reported case'])]\n",
    "country_data = country_data[country_data['Days_Since_Last_Reported_Case'].notnull()]\n",
    "\n",
    "# remove `*` from numbers\n",
    "country_data[\"Days_Since_Last_Reported_Case\"] = country_data[\"Days_Since_Last_Reported_Case\"].astype(\"str\")\n",
    "country_data[\"Days_Since_Last_Reported_Case\"] = country_data[\"Days_Since_Last_Reported_Case\"].str.replace( '\\*', '')\n",
    "country_data[\"Days_Since_Last_Reported_Case\"] = pd.to_numeric( country_data[\"Days_Since_Last_Reported_Case\"] ).astype(\"int32\")\n",
    "\n",
    "country_data[\"Deaths\"] = country_data[\"Deaths\"].astype(\"str\").str.replace(' ','')\n",
    "country_data[\"Deaths_New\"] = country_data[\"Deaths_New\"].astype(\"str\").str.replace(' ','')\n",
    "country_data[\"Cases_New\"] = country_data[\"Cases_New\"].astype(\"str\").str.replace(' ','')\n",
    "country_data[\"Total_Cases\"] = country_data[\"Total_Cases\"].str.replace(' ','').astype('float').fillna(0).astype('int32')\n",
    "\n"
   ]
  },
  {
   "cell_type": "code",
   "execution_count": null,
   "metadata": {},
   "outputs": [],
   "source": [
    "#country_data[country_data['Country']=='United States of America']\n",
    "#country_data[country_data['Country']=='Spain']\n",
    "#all_reports['20200319-sitrep-59-covid-19']"
   ]
  },
  {
   "cell_type": "code",
   "execution_count": null,
   "metadata": {},
   "outputs": [],
   "source": [
    "# fix for 20200515-covid-19-sitrep-116\n",
    "# International conveyance (Diamond Princess),712,0,13,0-,,60,,International conveyance (Diamond Princess),2020-05-15,20200515-covid-19-sitrep-116,https://www.who.int/docs/default-source/coronaviruse/situation-reports/20200515-covid-19-sitrep-116.pdf,2020-05-19 12:07:09.219221,False\n",
    "\n",
    "country_data[\"Deaths_New\"] = country_data[\"Deaths_New\"].astype(\"str\").str.replace('0-','0') \n"
   ]
  },
  {
   "cell_type": "code",
   "execution_count": null,
   "metadata": {},
   "outputs": [],
   "source": [
    "changed_names = {\n",
    "    \"The United Kingdom\": \"United Kingdom\",\n",
    "    \"Serbia††\": \"Serbia\",\n",
    "    \"Iran (Islamic Republic of)\": \"Iran\",\n",
    "    \"occupied Palestinian territory\": \"Palestine\",\n",
    "    \"occupied Palestinian Territory\": \"Palestine\",  \n",
    "    \"Occupied Palestinian Territory\": \"Palestine\",        \n",
    "    \"Venezuela (Bolivarian Republic of)\": \"Venezuela\",\n",
    "    \"of)\": \"Venezuela\", # 20200501-covid-19-sitrep\n",
    "    \"Bolivia (Plurinational State of)\": \"Bolivia\",\n",
    "    \"State of)\": \"Bolivia\", # 20200314-sitrep-54-covid-19 \n",
    "    \"Republic of)\": \"Venezuela\", # 20200314-sitrep-54-covid-19\n",
    "    \"Côte d’Ivoire\": \"Côte d'Ivoire\",\n",
    "    \"Cote d’Ivoire\": \"Côte d'Ivoire\",\n",
    "    \"Cote d Ivoire\": \"Côte d'Ivoire\",\n",
    "    \"International\": \"International conveyance (Diamond Princess)\",\n",
    "    \"conveyance\": \"International conveyance (Diamond Princess)\",\n",
    "    \"Other*\": \"International conveyance (Diamond Princess)\",    \n",
    "    \"Kosovo[1]\": \"Kosovo\",\n",
    "    \"United States Virgin Islands\": \"Virgin Islands\",\n",
    "    \"Democratic Republic of the Congo\": \"Congo, The Democratic Republic of the\",\n",
    "    \"Kingdom¶\": \"United Kingdom\",\n",
    "    \"the United Kingdom\": \"United Kingdom\",\n",
    "    \"the)\": \"Northern Mariana Islands\",\n",
    "    \"Lao People’s\": \"Lao People's Democratic Republic\",\n",
    "    \"wealth of the)\": \"Northern Mariana Islands\",\n",
    "    \"(Commonwealth of the)\": \"Northern Mariana Islands\"\n",
    "\n",
    "}\n",
    "\n",
    "country_data[\"Country\"] = country_data[\"Country\"].str.replace('\\r', ' ')\n",
    "country_data[\"Country\"] = country_data[\"Country\"].str.replace('^', '')\n",
    "country_data[\"Country\"] = country_data[\"Country\"].replace(changed_names)\n",
    "\n",
    "countries = country_data[\"Country\"].unique()\n",
    "\n",
    "country_dict = {}\n",
    "\n",
    "for country in countries:\n",
    "    if not \"conveyance\" in country:\n",
    "        country_dict[country] = pycountry.countries.search_fuzzy( country )[0]\n",
    "    else:\n",
    "        country_dict[country] = None\n",
    "\n",
    "        \n",
    "#country_dict"
   ]
  },
  {
   "cell_type": "code",
   "execution_count": null,
   "metadata": {},
   "outputs": [],
   "source": [
    "def resolve_iso3166_1_row(row):\n",
    "    country = country_dict[ row[\"Country\"] ]\n",
    "    if country:\n",
    "        row[\"ISO3166-1\"] = country.alpha_2\n",
    "        row['Country/Region'] = country.name\n",
    "    else:\n",
    "        row[\"ISO3166-1\"] = \"\"\n",
    "        row['Country/Region'] = row[\"Country\"]\n",
    "    return row\n",
    "    \n",
    "\n",
    "data = country_data.apply(resolve_iso3166_1_row, axis=\"columns\")\n",
    "        \n"
   ]
  },
  {
   "cell_type": "markdown",
   "metadata": {},
   "source": [
    "## Adding Metadata\n",
    "\n",
    "Before we save the file locally, we add the `Last_Update_Date` in `UTC` time zone.\n"
   ]
  },
  {
   "cell_type": "code",
   "execution_count": null,
   "metadata": {},
   "outputs": [],
   "source": [
    "data[\"Last_Update_Date\"] = datetime.utcnow()"
   ]
  },
  {
   "cell_type": "code",
   "execution_count": null,
   "metadata": {},
   "outputs": [],
   "source": [
    "data['Last_Reported_Flag'] = data['Date'] == data['Date'].max()"
   ]
  },
  {
   "cell_type": "code",
   "execution_count": null,
   "metadata": {},
   "outputs": [],
   "source": [
    "data.to_csv(output_folder + \"WHO_SITUATION_REPORTS.csv\", index=False)"
   ]
  }
 ],
 "metadata": {
  "kernelspec": {
   "display_name": "Python 3",
   "language": "python",
   "name": "python3"
  },
  "language_info": {
   "codemirror_mode": {
    "name": "ipython",
    "version": 3
   },
   "file_extension": ".py",
   "mimetype": "text/x-python",
   "name": "python",
   "nbconvert_exporter": "python",
   "pygments_lexer": "ipython3",
   "version": "3.7.5"
  }
 },
 "nbformat": 4,
 "nbformat_minor": 2
}
